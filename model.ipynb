{
 "cells": [
  {
   "cell_type": "markdown",
   "metadata": {},
   "source": [
    "# Import Libraries"
   ]
  },
  {
   "cell_type": "code",
   "execution_count": 24,
   "metadata": {},
   "outputs": [
    {
     "name": "stderr",
     "output_type": "stream",
     "text": [
      "[nltk_data] Downloading package stopwords to /home/yelf/nltk_data...\n",
      "[nltk_data]   Package stopwords is already up-to-date!\n"
     ]
    },
    {
     "data": {
      "text/plain": [
       "True"
      ]
     },
     "execution_count": 24,
     "metadata": {},
     "output_type": "execute_result"
    }
   ],
   "source": [
    "import os\n",
    "os.environ['TF_CPP_MIN_LOG_LEVEL'] = '3'\n",
    "\n",
    "# Preprocession Text\n",
    "from Sastrawi.StopWordRemover.StopWordRemoverFactory import StopWordRemoverFactory\n",
    "from sklearn.feature_extraction.text import TfidfVectorizer\n",
    "from keras.preprocessing.text import Tokenizer\n",
    "from IPython.display import clear_output\n",
    "from imblearn.over_sampling import SMOTE\n",
    "from nlp_id.lemmatizer import Lemmatizer\n",
    "from nltk.tokenize import word_tokenize\n",
    "from googletrans import Translator\n",
    "from nltk.corpus import stopwords\n",
    "from collections import Counter\n",
    "from string import punctuation\n",
    "\n",
    "# Report\n",
    "from sklearn.model_selection import train_test_split\n",
    "from sklearn.metrics import classification_report\n",
    "from sklearn.metrics import accuracy_score\n",
    "\n",
    "# Modelling\n",
    "from sklearn.ensemble import GradientBoostingClassifier\n",
    "from sklearn.model_selection import GridSearchCV\n",
    "from sklearn.neural_network import MLPClassifier\n",
    "from sklearn.svm import SVC\n",
    "\n",
    "# Utility\n",
    "from pandas import read_csv\n",
    "from pandas import DataFrame\n",
    "import pickle, re, json, time\n",
    "import numpy as np\n",
    "from requests import get\n",
    "from io import StringIO\n",
    "import nltk, re, json, csv\n",
    "from tqdm import tqdm\n",
    "tqdm.pandas()\n",
    "nltk.download('stopwords')"
   ]
  },
  {
   "cell_type": "markdown",
   "metadata": {},
   "source": [
    "# Load Dataset"
   ]
  },
  {
   "cell_type": "code",
   "execution_count": 25,
   "metadata": {},
   "outputs": [
    {
     "name": "stdout",
     "output_type": "stream",
     "text": [
      "\"./pubg_dataset.csv\" is loaded succesfully\n"
     ]
    },
    {
     "data": {
      "text/html": [
       "<div>\n",
       "<style scoped>\n",
       "    .dataframe tbody tr th:only-of-type {\n",
       "        vertical-align: middle;\n",
       "    }\n",
       "\n",
       "    .dataframe tbody tr th {\n",
       "        vertical-align: top;\n",
       "    }\n",
       "\n",
       "    .dataframe thead th {\n",
       "        text-align: right;\n",
       "    }\n",
       "</style>\n",
       "<table border=\"1\" class=\"dataframe\">\n",
       "  <thead>\n",
       "    <tr style=\"text-align: right;\">\n",
       "      <th></th>\n",
       "      <th>content</th>\n",
       "    </tr>\n",
       "  </thead>\n",
       "  <tbody>\n",
       "    <tr>\n",
       "      <th>0</th>\n",
       "      <td>Tencent, saya bukan player pro,. Tapi kami sec...</td>\n",
       "    </tr>\n",
       "    <tr>\n",
       "      <th>1</th>\n",
       "      <td>Bug setelah update. 1 . Turun pesawat ga kebag...</td>\n",
       "    </tr>\n",
       "    <tr>\n",
       "      <th>2</th>\n",
       "      <td>Keseluruhan game nya udah bagus, apalagi setel...</td>\n",
       "    </tr>\n",
       "    <tr>\n",
       "      <th>3</th>\n",
       "      <td>Pubg setelah update bnyak aja masalahnya, sepe...</td>\n",
       "    </tr>\n",
       "    <tr>\n",
       "      <th>4</th>\n",
       "      <td>Game bagus...tapi masih banyak bug...masih per...</td>\n",
       "    </tr>\n",
       "  </tbody>\n",
       "</table>\n",
       "</div>"
      ],
      "text/plain": [
       "                                             content\n",
       "0  Tencent, saya bukan player pro,. Tapi kami sec...\n",
       "1  Bug setelah update. 1 . Turun pesawat ga kebag...\n",
       "2  Keseluruhan game nya udah bagus, apalagi setel...\n",
       "3  Pubg setelah update bnyak aja masalahnya, sepe...\n",
       "4  Game bagus...tapi masih banyak bug...masih per..."
      ]
     },
     "execution_count": 25,
     "metadata": {},
     "output_type": "execute_result"
    }
   ],
   "source": [
    "dataset_path = './pubg_dataset.csv'\n",
    "review = read_csv(dataset_path)\n",
    "print(\"\\\"{}\\\" is loaded succesfully\".format(dataset_path))\n",
    "\n",
    "# Create New Dataframe to keep every text preprocessing result\n",
    "df = DataFrame(review['content'])\n",
    "df.head()"
   ]
  },
  {
   "cell_type": "markdown",
   "metadata": {},
   "source": [
    "# Features Extraction"
   ]
  },
  {
   "cell_type": "markdown",
   "metadata": {},
   "source": [
    "## Function Declaration"
   ]
  },
  {
   "cell_type": "markdown",
   "metadata": {},
   "source": [
    "### Text Cleaning"
   ]
  },
  {
   "cell_type": "code",
   "execution_count": 26,
   "metadata": {},
   "outputs": [],
   "source": [
    "# REMOVE SPECIAL CHARACTERS & CASE FOLDING\n",
    "def cleaning(text):\n",
    "    text = re.sub(r'@[A-Za-z0-9]+', '', str(text))              # menghapus mention\n",
    "    text = re.sub(r'#[A-Za-z0-9]+', '', text)                   # menghapus hashtag\n",
    "    text = re.sub(r'RT[\\s]', '', text)                          # menghapus RT\n",
    "    text = re.sub(r\"http\\S+\", '', text)                         # menghapus link\n",
    "    text = re.sub(r'[0-9]+', '', text)                          # menghapus angka\n",
    "    text = re.sub(r\"[,.;@#?!&$]+\\ *\", \" \", text)                # mengganti tanda baca dengan spasi\n",
    "    text = re.sub(r'[^\\w\\s]', '', text)                         # menghapus karakter selain huruf dan angka\n",
    "    text = text.replace('\\n', ' ')                              # mengganti baris baru dengan spasi\n",
    "    text = text.translate(str.maketrans('', '', punctuation))   # menghapus semua tanda baca\n",
    "    text = text.strip(' ')                                      # menghapus karakter spasi dari kiri dan kanan teks\n",
    "    text = re.sub(r' +', ' ', text)                             # Remove double space\n",
    "    return text.lower()"
   ]
  },
  {
   "cell_type": "code",
   "execution_count": 27,
   "metadata": {},
   "outputs": [
    {
     "name": "stdout",
     "output_type": "stream",
     "text": [
      "Proses Cleaning     : START\n"
     ]
    },
    {
     "name": "stderr",
     "output_type": "stream",
     "text": [
      "100%|██████████| 20000/20000 [00:00<00:00, 29732.86it/s]"
     ]
    },
    {
     "name": "stdout",
     "output_type": "stream",
     "text": [
      "Proses Cleaning     : DONE\n",
      "\n",
      "Printing sample...\n",
      "Text Original : Pubg mobile sekarang sering nge bug mulai dari voice chat gak keluar suara (gak fungsi), Bug masuk ke permainan, sampai bug server tidak merespon... Ini mengganggu kami par pemain.. Tolong segera diperbaiki\n",
      "Text Output   : pubg mobile sekarang sering nge bug mulai dari voice chat gak keluar suara gak fungsi bug masuk ke permainan sampai bug server tidak merespon ini mengganggu kami par pemain tolong segera diperbaiki\n"
     ]
    },
    {
     "name": "stderr",
     "output_type": "stream",
     "text": [
      "\n"
     ]
    }
   ],
   "source": [
    "print(\"Proses Cleaning     : START\")\n",
    "df['text_clean'] = df['content'].progress_apply(cleaning)\n",
    "print(\"Proses Cleaning     : DONE\\n\")\n",
    "\n",
    "sample = df.sample(n=1, random_state=1)\n",
    "print(\"Printing sample...\")\n",
    "print(\"Text Original :\", sample['content'].values[0])\n",
    "print(\"Text Output   :\", sample['text_clean'].values[0])"
   ]
  },
  {
   "cell_type": "markdown",
   "metadata": {},
   "source": [
    "### Fixing Slangwords"
   ]
  },
  {
   "cell_type": "code",
   "execution_count": 28,
   "metadata": {},
   "outputs": [],
   "source": [
    "# REMOVE SLANG WORDS\n",
    "def fixSlangwords(text):\n",
    "    words = text.split()\n",
    "    fixed_words = []\n",
    "    with open('./resources/slangwords/slangwords_dict.json', mode='r') as file:\n",
    "        slangwords = json.load(file)\n",
    "        \n",
    "    for word in words:\n",
    "        if word.lower() in slangwords:\n",
    "            fixed_words.append(slangwords[word.lower()])\n",
    "        else:\n",
    "            fixed_words.append(word.lower())\n",
    "    \n",
    "    return ' '.join(fixed_words)"
   ]
  },
  {
   "cell_type": "code",
   "execution_count": 29,
   "metadata": {},
   "outputs": [
    {
     "name": "stdout",
     "output_type": "stream",
     "text": [
      "Proses Slangword    : START\n"
     ]
    },
    {
     "name": "stderr",
     "output_type": "stream",
     "text": [
      "100%|██████████| 20000/20000 [01:39<00:00, 200.37it/s]"
     ]
    },
    {
     "name": "stdout",
     "output_type": "stream",
     "text": [
      "Proses Slangword    : DONE\n",
      "\n",
      "Printing sample...\n",
      "Text Original : pubg mobile sekarang sering nge bug mulai dari voice chat gak keluar suara gak fungsi bug masuk ke permainan sampai bug server tidak merespon ini mengganggu kami par pemain tolong segera diperbaiki\n",
      "Text Output   : pubg mobile sekarang sering nge bug mulai dari voice chat tidak keluar suara tidak fungsi bug masuk ke permainan sampai bug server tidak merespon ini mengganggu kami par pemain tolong segera diperbaiki\n"
     ]
    },
    {
     "name": "stderr",
     "output_type": "stream",
     "text": [
      "\n"
     ]
    }
   ],
   "source": [
    "print(\"Proses Slangword    : START\")\n",
    "df['text_slangwords'] = df['text_clean'].progress_apply(fixSlangwords)\n",
    "print(\"Proses Slangword    : DONE\\n\")\n",
    "\n",
    "sample = df.sample(n=1, random_state=1)\n",
    "print(\"Printing sample...\")\n",
    "print(\"Text Original :\", sample['text_clean'].values[0])\n",
    "print(\"Text Output   :\", sample['text_slangwords'].values[0])"
   ]
  },
  {
   "cell_type": "markdown",
   "metadata": {},
   "source": [
    "### Remove Stopwords"
   ]
  },
  {
   "cell_type": "code",
   "execution_count": 30,
   "metadata": {},
   "outputs": [],
   "source": [
    "# REMOVE STOPWORDS\n",
    "def stopwordsRemove(text):\n",
    "    words = text.split()\n",
    "    fixed_words = []\n",
    "    factory = StopWordRemoverFactory()\n",
    "    stopwords_sastrawi = factory.get_stop_words()\n",
    "    stopwords_indonesia = set(stopwords.words('indonesian'))\n",
    "    with open('./resources/stopwords/stopwords_dict.json', mode='r') as file:\n",
    "        stopwords_dict = json.load(file)\n",
    "        \n",
    "    fixed_words = [word for word in words if word.lower() not in stopwords_dict]\n",
    "    fixed_words = [word for word in fixed_words if word.lower() not in stopwords_indonesia]\n",
    "    fixed_words = [word for word in fixed_words if word.lower() not in stopwords_sastrawi]\n",
    "    \n",
    "    return ' '.join(fixed_words)"
   ]
  },
  {
   "cell_type": "code",
   "execution_count": 31,
   "metadata": {},
   "outputs": [
    {
     "name": "stdout",
     "output_type": "stream",
     "text": [
      "Proses Stopword     : START\n"
     ]
    },
    {
     "name": "stderr",
     "output_type": "stream",
     "text": [
      "100%|██████████| 20000/20000 [01:22<00:00, 241.80it/s]"
     ]
    },
    {
     "name": "stdout",
     "output_type": "stream",
     "text": [
      "Proses Stopword     : DONE\n",
      "\n",
      "Printing sample...\n",
      "Text Original : pubg mobile sekarang sering nge bug mulai dari voice chat tidak keluar suara tidak fungsi bug masuk ke permainan sampai bug server tidak merespon ini mengganggu kami par pemain tolong segera diperbaiki\n",
      "Text Output   : pubg mobile bug voice chat suara fungsi bug masuk permainan bug server merespon mengganggu par pemain diperbaiki\n"
     ]
    },
    {
     "name": "stderr",
     "output_type": "stream",
     "text": [
      "\n"
     ]
    }
   ],
   "source": [
    "print(\"Proses Stopword     : START\")\n",
    "df['text_stopwords'] = df['text_slangwords'].progress_apply(stopwordsRemove)\n",
    "print(\"Proses Stopword     : DONE\\n\")\n",
    "\n",
    "sample = df.sample(n=1, random_state=1)\n",
    "print(\"Printing sample...\")\n",
    "print(\"Text Original :\", sample['text_slangwords'].values[0])\n",
    "print(\"Text Output   :\", sample['text_stopwords'].values[0])"
   ]
  },
  {
   "cell_type": "markdown",
   "metadata": {},
   "source": [
    "### Lemmatizing Words"
   ]
  },
  {
   "cell_type": "code",
   "execution_count": 32,
   "metadata": {},
   "outputs": [],
   "source": [
    "# LEMMATIZING\n",
    "def lemmatizerWords(text):\n",
    "    words = text.split()\n",
    "    lemmatized_words = []\n",
    "    lemmatizer  = Lemmatizer()\n",
    "    lemmatized_words.append(lemmatizer.lemmatize(word.lower()) for word in words)\n",
    "    return ' '.join(lemmatized_words[0])"
   ]
  },
  {
   "cell_type": "code",
   "execution_count": 33,
   "metadata": {},
   "outputs": [
    {
     "name": "stdout",
     "output_type": "stream",
     "text": [
      "Proses Lemmatizing  : START\n"
     ]
    },
    {
     "name": "stderr",
     "output_type": "stream",
     "text": [
      "100%|██████████| 20000/20000 [2:32:18<00:00,  2.19it/s]  "
     ]
    },
    {
     "name": "stdout",
     "output_type": "stream",
     "text": [
      "Proses Lemmatizing  : DONE\n",
      "\n",
      "Printing sample...\n",
      "Text Original : pubg mobile bug voice chat suara fungsi bug masuk permainan bug server merespon mengganggu par pemain diperbaiki\n",
      "Text Output   : pubg mobile bug voice chat suara fungsi bug masuk main bug server merespon ganggu par main baik\n"
     ]
    },
    {
     "name": "stderr",
     "output_type": "stream",
     "text": [
      "\n"
     ]
    }
   ],
   "source": [
    "print(\"Proses Lemmatizing  : START\")\n",
    "df['text_lemmatize'] = df['text_stopwords'].progress_apply(lemmatizerWords)\n",
    "print(\"Proses Lemmatizing  : DONE\\n\")\n",
    "\n",
    "sample = df.sample(n=1, random_state=1)\n",
    "print(\"Printing sample...\")\n",
    "print(\"Text Original :\", sample['text_stopwords'].values[0])\n",
    "print(\"Text Output   :\", sample['text_lemmatize'].values[0])"
   ]
  },
  {
   "cell_type": "code",
   "execution_count": 35,
   "metadata": {},
   "outputs": [
    {
     "data": {
      "text/html": [
       "<div>\n",
       "<style scoped>\n",
       "    .dataframe tbody tr th:only-of-type {\n",
       "        vertical-align: middle;\n",
       "    }\n",
       "\n",
       "    .dataframe tbody tr th {\n",
       "        vertical-align: top;\n",
       "    }\n",
       "\n",
       "    .dataframe thead th {\n",
       "        text-align: right;\n",
       "    }\n",
       "</style>\n",
       "<table border=\"1\" class=\"dataframe\">\n",
       "  <thead>\n",
       "    <tr style=\"text-align: right;\">\n",
       "      <th></th>\n",
       "      <th>content</th>\n",
       "      <th>text_clean</th>\n",
       "      <th>text_slangwords</th>\n",
       "      <th>text_stopwords</th>\n",
       "      <th>text_lemmatize</th>\n",
       "    </tr>\n",
       "  </thead>\n",
       "  <tbody>\n",
       "    <tr>\n",
       "      <th>0</th>\n",
       "      <td>Tencent, saya bukan player pro,. Tapi kami sec...</td>\n",
       "      <td>tencent saya bukan player pro tapi kami secara...</td>\n",
       "      <td>tencent saya bukan player profesional tapi kam...</td>\n",
       "      <td>tencent player profesional mengeluh update bug...</td>\n",
       "      <td>tencent player profesional keluh update bug fr...</td>\n",
       "    </tr>\n",
       "    <tr>\n",
       "      <th>1</th>\n",
       "      <td>Bug setelah update. 1 . Turun pesawat ga kebag...</td>\n",
       "      <td>bug setelah update turun pesawat ga kebagian p...</td>\n",
       "      <td>bug setelah update turun pesawat tidak kebagia...</td>\n",
       "      <td>bug update turun pesawat kebagian parasut kara...</td>\n",
       "      <td>bug update turun pesawat bagi parasut karakter...</td>\n",
       "    </tr>\n",
       "    <tr>\n",
       "      <th>2</th>\n",
       "      <td>Keseluruhan game nya udah bagus, apalagi setel...</td>\n",
       "      <td>keseluruhan game nya udah bagus apalagi setela...</td>\n",
       "      <td>keseluruhan game nya sudah bagus apalagi setel...</td>\n",
       "      <td>game bagus update grafik makinn mantap kekecew...</td>\n",
       "      <td>game bagus update grafik makinn mantap kecewa ...</td>\n",
       "    </tr>\n",
       "    <tr>\n",
       "      <th>3</th>\n",
       "      <td>Pubg setelah update bnyak aja masalahnya, sepe...</td>\n",
       "      <td>pubg setelah update bnyak aja masalahnya seper...</td>\n",
       "      <td>pubg setelah update banyak saja masalahnya sep...</td>\n",
       "      <td>pubg update bug map pas game player suka jalan...</td>\n",
       "      <td>pubg update bug map pas game player suka jalan...</td>\n",
       "    </tr>\n",
       "    <tr>\n",
       "      <th>4</th>\n",
       "      <td>Game bagus...tapi masih banyak bug...masih per...</td>\n",
       "      <td>game bagus tapi masih banyak bug masih perlu d...</td>\n",
       "      <td>game bagus tapi masih banyak bug masih perlu d...</td>\n",
       "      <td>game bagus bug diperbaiki mode tdm bug player ...</td>\n",
       "      <td>game bagus bug baik mode tdm bug player arena ...</td>\n",
       "    </tr>\n",
       "  </tbody>\n",
       "</table>\n",
       "</div>"
      ],
      "text/plain": [
       "                                             content  \\\n",
       "0  Tencent, saya bukan player pro,. Tapi kami sec...   \n",
       "1  Bug setelah update. 1 . Turun pesawat ga kebag...   \n",
       "2  Keseluruhan game nya udah bagus, apalagi setel...   \n",
       "3  Pubg setelah update bnyak aja masalahnya, sepe...   \n",
       "4  Game bagus...tapi masih banyak bug...masih per...   \n",
       "\n",
       "                                          text_clean  \\\n",
       "0  tencent saya bukan player pro tapi kami secara...   \n",
       "1  bug setelah update turun pesawat ga kebagian p...   \n",
       "2  keseluruhan game nya udah bagus apalagi setela...   \n",
       "3  pubg setelah update bnyak aja masalahnya seper...   \n",
       "4  game bagus tapi masih banyak bug masih perlu d...   \n",
       "\n",
       "                                     text_slangwords  \\\n",
       "0  tencent saya bukan player profesional tapi kam...   \n",
       "1  bug setelah update turun pesawat tidak kebagia...   \n",
       "2  keseluruhan game nya sudah bagus apalagi setel...   \n",
       "3  pubg setelah update banyak saja masalahnya sep...   \n",
       "4  game bagus tapi masih banyak bug masih perlu d...   \n",
       "\n",
       "                                      text_stopwords  \\\n",
       "0  tencent player profesional mengeluh update bug...   \n",
       "1  bug update turun pesawat kebagian parasut kara...   \n",
       "2  game bagus update grafik makinn mantap kekecew...   \n",
       "3  pubg update bug map pas game player suka jalan...   \n",
       "4  game bagus bug diperbaiki mode tdm bug player ...   \n",
       "\n",
       "                                      text_lemmatize  \n",
       "0  tencent player profesional keluh update bug fr...  \n",
       "1  bug update turun pesawat bagi parasut karakter...  \n",
       "2  game bagus update grafik makinn mantap kecewa ...  \n",
       "3  pubg update bug map pas game player suka jalan...  \n",
       "4  game bagus bug baik mode tdm bug player arena ...  "
      ]
     },
     "execution_count": 35,
     "metadata": {},
     "output_type": "execute_result"
    }
   ],
   "source": [
    "df.head()"
   ]
  },
  {
   "cell_type": "markdown",
   "metadata": {},
   "source": [
    "### Save Dataset"
   ]
  },
  {
   "cell_type": "code",
   "execution_count": 34,
   "metadata": {},
   "outputs": [],
   "source": [
    "df.to_csv('./pubg_preprocessing_new.csv', index=False)"
   ]
  },
  {
   "cell_type": "markdown",
   "metadata": {},
   "source": [
    "## Load Dataset preprocessing"
   ]
  },
  {
   "cell_type": "code",
   "execution_count": null,
   "metadata": {},
   "outputs": [],
   "source": [
    "df = read_csv('./pubg_preprocessing.csv')\n",
    "df.head()"
   ]
  },
  {
   "cell_type": "markdown",
   "metadata": {},
   "source": [
    "## Create Words Dictionary"
   ]
  },
  {
   "cell_type": "code",
   "execution_count": null,
   "metadata": {},
   "outputs": [],
   "source": [
    "# Counter words function declaration\n",
    "def counter_word(texts):\n",
    "    count = Counter()\n",
    "    for text in texts.values:\n",
    "        for word in text.split():\n",
    "            count[word] += 1\n",
    "    return count\n",
    "\n",
    "# Count unique words\n",
    "counter = counter_word(df['text_slang'])\n",
    "num_unique_words = len(counter)     # 20993\n",
    "# counter.most_common(5)\n",
    "print(\"\\nUnique words : \", num_unique_words)\n",
    "\n",
    "# Tokenizer word from text_lemmatize coloumn\n",
    "tokenizer = Tokenizer(num_words=num_unique_words)\n",
    "tokenizer.fit_on_texts(df['text_slang'])\n",
    "\n",
    "# Get Word Index from tokenizer\n",
    "word_index = tokenizer.word_index\n",
    "\n",
    "# Save word dictionary to json\n",
    "with open('./word_dictionary.json', mode='w') as file:\n",
    "  json.dump(word_index, file, indent=4)\n",
    "  \n",
    "# Save word dictionary to csv\n",
    "word_df = DataFrame(counter.items(), columns=[\"Word\", \"Count\"])\n",
    "word_df.head()\n",
    "word_df.to_csv('./word_dictionary.csv', index=False)"
   ]
  }
 ],
 "metadata": {
  "kernelspec": {
   "display_name": "tf2.13",
   "language": "python",
   "name": "python3"
  },
  "language_info": {
   "codemirror_mode": {
    "name": "ipython",
    "version": 3
   },
   "file_extension": ".py",
   "mimetype": "text/x-python",
   "name": "python",
   "nbconvert_exporter": "python",
   "pygments_lexer": "ipython3",
   "version": "3.10.12"
  }
 },
 "nbformat": 4,
 "nbformat_minor": 2
}
