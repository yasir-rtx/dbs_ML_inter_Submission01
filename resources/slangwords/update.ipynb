{
 "cells": [
  {
   "cell_type": "code",
   "execution_count": 1,
   "metadata": {},
   "outputs": [],
   "source": [
    "# Import library\n",
    "from pandas import read_csv\n",
    "import json"
   ]
  },
  {
   "cell_type": "code",
   "execution_count": 4,
   "metadata": {},
   "outputs": [
    {
     "data": {
      "text/plain": [
       "616"
      ]
     },
     "execution_count": 4,
     "metadata": {},
     "output_type": "execute_result"
    }
   ],
   "source": [
    "df = read_csv('../../word_dictionary_02.csv')\n",
    "# df.head()\n",
    "new_slangwords = df[~df['FixedWord'].isna()]\n",
    "new_slangwords"
   ]
  },
  {
   "cell_type": "code",
   "execution_count": 6,
   "metadata": {},
   "outputs": [],
   "source": [
    "new_slangwords = df[~df['FixedWord'].isna()]\n",
    "\n",
    "slangword_dict = {}\n",
    "for data in new_slangwords.values:\n",
    "    slangword_dict[data[0]] = data[3]\n",
    "\n",
    "# slangword_dict\n",
    "\n",
    "with open('./slangwords_dict.json', mode='r+') as file:\n",
    "    slangwords = json.load(file)\n",
    "    slangwords.update(slangword_dict)\n",
    "    file.seek(0)\n",
    "    json.dump(slangwords, file, indent=4)"
   ]
  }
 ],
 "metadata": {
  "kernelspec": {
   "display_name": "tf2.13",
   "language": "python",
   "name": "python3"
  },
  "language_info": {
   "codemirror_mode": {
    "name": "ipython",
    "version": 3
   },
   "file_extension": ".py",
   "mimetype": "text/x-python",
   "name": "python",
   "nbconvert_exporter": "python",
   "pygments_lexer": "ipython3",
   "version": "3.10.12"
  }
 },
 "nbformat": 4,
 "nbformat_minor": 2
}
