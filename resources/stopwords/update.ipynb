{
 "cells": [
  {
   "cell_type": "code",
   "execution_count": 1,
   "metadata": {},
   "outputs": [],
   "source": [
    "# Import library\n",
    "from pandas import read_csv\n",
    "import json"
   ]
  },
  {
   "cell_type": "code",
   "execution_count": 5,
   "metadata": {},
   "outputs": [
    {
     "data": {
      "text/plain": [
       "741             asalamualaikum\n",
       "784            assalamualaikum\n",
       "785     assalamualaikumselamat\n",
       "786             assalamualikum\n",
       "787           assalamuallaikum\n",
       "912                         ba\n",
       "913                        baa\n",
       "1253               barokatuhhh\n",
       "Name: Word, dtype: object"
      ]
     },
     "execution_count": 5,
     "metadata": {},
     "output_type": "execute_result"
    }
   ],
   "source": [
    "df = read_csv('../../word_dictionary_02.csv')\n",
    "df.head()\n",
    "stopwords = df.loc[df['Stopword'] == True]\n",
    "stopwords['Word']"
   ]
  },
  {
   "cell_type": "code",
   "execution_count": 7,
   "metadata": {},
   "outputs": [],
   "source": [
    "stopwords = df.loc[df['Stopword'] == True]\n",
    "# stopwords['Word']\n",
    "\n",
    "stopwords_dictionary = {}\n",
    "for stopword in stopwords['Word']:\n",
    "    stopwords_dictionary[stopword] = None\n",
    "# len(stopwords_dictionary)\n",
    "\n",
    "STOPWORDS_PATH = './stopwords_dict.json'\n",
    "with open(STOPWORDS_PATH, mode='r+') as file:\n",
    "        stopwords = json.load(file)\n",
    "        stopwords.update(stopwords_dictionary)\n",
    "        file.seek(0)                            # Empty dictionary\n",
    "        json.dump(stopwords, file, indent=4)\n",
    "# len(stopwords)"
   ]
  }
 ],
 "metadata": {
  "kernelspec": {
   "display_name": "tf2.13",
   "language": "python",
   "name": "python3"
  },
  "language_info": {
   "codemirror_mode": {
    "name": "ipython",
    "version": 3
   },
   "file_extension": ".py",
   "mimetype": "text/x-python",
   "name": "python",
   "nbconvert_exporter": "python",
   "pygments_lexer": "ipython3",
   "version": "3.10.12"
  }
 },
 "nbformat": 4,
 "nbformat_minor": 2
}
