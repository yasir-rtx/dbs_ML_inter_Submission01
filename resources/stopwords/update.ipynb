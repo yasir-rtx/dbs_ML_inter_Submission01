{
 "cells": [
  {
   "cell_type": "code",
   "execution_count": 1,
   "metadata": {},
   "outputs": [],
   "source": [
    "# Import library\n",
    "from pandas import read_csv\n",
    "import json"
   ]
  },
  {
   "cell_type": "code",
   "execution_count": 2,
   "metadata": {},
   "outputs": [
    {
     "data": {
      "text/plain": [
       "245        barokatuhhh\n",
       "412          cgaracter\n",
       "680                 𝙙𝙞\n",
       "681                 𝚍𝚒\n",
       "682                 𝐝𝐢\n",
       "774                  𝙚\n",
       "1576               loh\n",
       "1577              lohh\n",
       "1753              𝐦𝐥𝐚𝐡\n",
       "1891                ny\n",
       "1892               𝚗𝚢𝚊\n",
       "1893               𝐧𝐲𝐚\n",
       "1894              nyaa\n",
       "1895           nyahhhh\n",
       "2519               𝙨𝙞𝙝\n",
       "3009       wabarakatuh\n",
       "3019    warahmatullahi\n",
       "3021     warohmatulohi\n",
       "3028                wb\n",
       "3066                wr\n",
       "3067              wrwb\n",
       "3123               zzz\n",
       "3124                 ʖ\n",
       "3125                ان\n",
       "3126        দ৯দডজৰডক৯২\n",
       "3127                 ಡ\n",
       "Name: Word, dtype: object"
      ]
     },
     "execution_count": 2,
     "metadata": {},
     "output_type": "execute_result"
    }
   ],
   "source": [
    "df = read_csv('../../word_dictionary_02.csv')\n",
    "df.head()\n",
    "stopwords = df.loc[df['Stopword'] == True]\n",
    "stopwords['Word']"
   ]
  },
  {
   "cell_type": "code",
   "execution_count": 3,
   "metadata": {},
   "outputs": [],
   "source": [
    "stopwords = df.loc[df['Stopword'] == True]\n",
    "# stopwords['Word']\n",
    "\n",
    "stopwords_dictionary = {}\n",
    "for stopword in stopwords['Word']:\n",
    "    stopwords_dictionary[stopword] = None\n",
    "# len(stopwords_dictionary)\n",
    "\n",
    "STOPWORDS_PATH = './stopwords_dict.json'\n",
    "with open(STOPWORDS_PATH, mode='r+') as file:\n",
    "        stopwords = json.load(file)\n",
    "        stopwords.update(stopwords_dictionary)\n",
    "        file.seek(0)                            # Empty dictionary\n",
    "        json.dump(stopwords, file, indent=4)\n",
    "# len(stopwords)"
   ]
  }
 ],
 "metadata": {
  "kernelspec": {
   "display_name": "tf2.13",
   "language": "python",
   "name": "python3"
  },
  "language_info": {
   "codemirror_mode": {
    "name": "ipython",
    "version": 3
   },
   "file_extension": ".py",
   "mimetype": "text/x-python",
   "name": "python",
   "nbconvert_exporter": "python",
   "pygments_lexer": "ipython3",
   "version": "3.10.12"
  }
 },
 "nbformat": 4,
 "nbformat_minor": 2
}
