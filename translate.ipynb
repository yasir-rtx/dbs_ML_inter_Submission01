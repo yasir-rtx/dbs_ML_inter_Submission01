{
 "cells": [
  {
   "cell_type": "code",
   "execution_count": 17,
   "metadata": {},
   "outputs": [],
   "source": [
    "from googletrans import Translator\n",
    "from IPython.display import clear_output\n",
    "from pandas import DataFrame\n",
    "from pandas import read_csv\n",
    "from pandas import concat\n",
    "from time import sleep\n",
    "from tqdm import tqdm\n",
    "from os import makedirs"
   ]
  },
  {
   "cell_type": "code",
   "execution_count": 2,
   "metadata": {},
   "outputs": [],
   "source": [
    "tqdm.pandas()\n",
    "df_pubg = read_csv('./pubg_preprocessing.csv')\n",
    "df = df_pubg[['text_slangwords']].copy()\n",
    "df.rename(columns={'text_slangwords' : \"text\"}, inplace=True)"
   ]
  },
  {
   "cell_type": "markdown",
   "metadata": {},
   "source": [
    "# Translate ID => EN"
   ]
  },
  {
   "cell_type": "code",
   "execution_count": null,
   "metadata": {},
   "outputs": [],
   "source": [
    "# Splitting Data for bad singal\n",
    "import os\n",
    "os.makedirs('./pubg_dataset_translate', exist_ok=True)\n",
    "\n",
    "df_01 = df.iloc[:5000]          # row 1 - 5000\n",
    "df_01.to_csv('./pubg_dataset/dataset_q1.csv', index=False)\n",
    "\n",
    "df_02 = df.iloc[5000:10000]     # row 5001 - 10000\n",
    "df_02.to_csv('./pubg_dataset/dataset_q2.csv', index=False)\n",
    "\n",
    "df_03 = df.iloc[5000:10000]     # row 10001 - 15000\n",
    "df_03.to_csv('./pubg_dataset/dataset_q3.csv', index=False)\n",
    "\n",
    "df_04 = df.iloc[5000:10000]     # row 15001 - 20000\n",
    "df_04.to_csv('./pubg_dataset/dataset_q4.csv', index=False)"
   ]
  },
  {
   "cell_type": "code",
   "execution_count": 3,
   "metadata": {},
   "outputs": [],
   "source": [
    "def translateText(text):\n",
    "    translator = Translator()\n",
    "    text_translated = translator.translate(text, src=\"id\", dest=\"en\")\n",
    "    \n",
    "    clear_output(wait=True)\n",
    "    print(\"Id : \", text)\n",
    "    print(\"En : \", text_translated.text)\n",
    "    \n",
    "    return text_translated.text"
   ]
  },
  {
   "cell_type": "code",
   "execution_count": null,
   "metadata": {},
   "outputs": [],
   "source": [
    "# Apply fungsi translateText\n",
    "# df['translate'] = df['text'].progress_apply(translateText)\n",
    "\n",
    "# df_01['translate'] = df_01['text'].progress_apply(translateText)\n",
    "# df_02['translate'] = df_02['text'].progress_apply(translateText)\n",
    "# df_03['translate'] = df_03['text'].progress_apply(translateText)\n",
    "# df_04['translate'] = df_04['text'].progress_apply(translateText)"
   ]
  },
  {
   "cell_type": "code",
   "execution_count": 6,
   "metadata": {},
   "outputs": [],
   "source": [
    "df = concat([df_01, df_02, df_03, df_04], ignore_index=True)\n",
    "df.to_csv('./pubg_dataset_translate.csv', index=False)"
   ]
  },
  {
   "cell_type": "markdown",
   "metadata": {},
   "source": [
    "# Translate EN => ID"
   ]
  },
  {
   "cell_type": "code",
   "execution_count": 10,
   "metadata": {},
   "outputs": [],
   "source": [
    "def terjemahText(text):\n",
    "    translator = Translator()\n",
    "    text_translated = translator.translate(text, src=\"en\", dest=\"id\")\n",
    "    \n",
    "    clear_output(wait=True)\n",
    "    print(\"Id : \", text)\n",
    "    print(\"En : \", text_translated.text)\n",
    "    \n",
    "    return text_translated.text"
   ]
  },
  {
   "cell_type": "code",
   "execution_count": 19,
   "metadata": {},
   "outputs": [],
   "source": [
    "# Splitting Data for bad singal\n",
    "makedirs('./pubg_dataset_terjemah/', exist_ok=True)\n",
    "df_01 = df.iloc[:5000]\n",
    "df_01.to_csv('./pubg_dataset_terjemah/dataset_q1.csv', index=False)\n",
    "df_02 = df.iloc[5000:10000]\n",
    "df_02.to_csv('./pubg_dataset_terjemah/dataset_q2.csv', index=False)\n",
    "df_03 = df.iloc[10000:15000]\n",
    "df_03.to_csv('./pubg_dataset_terjemah/dataset_q3.csv', index=False)\n",
    "df_04 = df.iloc[15000:20000]\n",
    "df_04.to_csv('./pubg_dataset_terjemah/dataset_q4.csv', index=False)"
   ]
  },
  {
   "cell_type": "code",
   "execution_count": 28,
   "metadata": {},
   "outputs": [
    {
     "name": "stderr",
     "output_type": "stream",
     "text": [
      "\r100%|██████████| 5000/5000 [40:46<00:00,  2.04it/s]"
     ]
    },
    {
     "name": "stdout",
     "output_type": "stream",
     "text": [
      "Id :  good game, really the best, please download this x for the latest version, the first one failed even though it already failed because the signal strength was weak even though the network at night yesterday was in very good condition, it's a loss because I didn't use the wifi, my quota dropped, my pocket dropped, don't keep downloading Well, because where I am far away there will be the best wifi games pls\n",
      "En :  bagus gamenya, best banget, silahkan download x ini untuk versi terbaru, yang pertama gagal padahal sudah gagal karena kekuatan sinyal lemah padahal jaringan malam kemarin kondisi sangat bagus, rugi karena saya tidak jangan pakai wifi, kuotaku habis, kantongku jebol, jangan download terus. Ya, karena di tempat aku jauh akan ada game wifi terbaik, tolong\n"
     ]
    },
    {
     "name": "stderr",
     "output_type": "stream",
     "text": [
      "\n",
      "/tmp/ipykernel_4382/3539341980.py:7: SettingWithCopyWarning: \n",
      "A value is trying to be set on a copy of a slice from a DataFrame.\n",
      "Try using .loc[row_indexer,col_indexer] = value instead\n",
      "\n",
      "See the caveats in the documentation: https://pandas.pydata.org/pandas-docs/stable/user_guide/indexing.html#returning-a-view-versus-a-copy\n",
      "  df_03['text_terjemahan'] = df_03['text_translated'].progress_apply(terjemahText)\n"
     ]
    }
   ],
   "source": [
    "# Apply fungsi terjemahText\n",
    "# df['text_terjemahan'] = df['text_translated'].progress_apply(terjemahText)\n",
    "\n",
    "# df_01['text_terjemahan'] = df_01['text_translated'].progress_apply(terjemahText)\n",
    "# df_02['text_terjemahan'] = df_02['text_translated'].progress_apply(terjemahText)\n",
    "# df_03['text_terjemahan'] = df_03['text_translated'].progress_apply(terjemahText)\n",
    "# df_04['text_terjemahan'] = df_04['text_translated'].progress_apply(terjemahText)"
   ]
  },
  {
   "cell_type": "code",
   "execution_count": 29,
   "metadata": {},
   "outputs": [],
   "source": [
    "# Save to csv file\n",
    "# df_01.to_csv('./pubg_dataset_terjemah/terjemah_01.csv', index=False)\n",
    "# df_02.to_csv('./pubg_dataset_terjemah/terjemah_02.csv', index=False)\n",
    "# df_03.to_csv('./pubg_dataset_terjemah/terjemah_03.csv', index=False)\n",
    "# df_04.to_csv('./pubg_dataset_terjemah/terjemah_04.csv', index=False)"
   ]
  },
  {
   "cell_type": "code",
   "execution_count": 30,
   "metadata": {},
   "outputs": [],
   "source": [
    "# Concat all terjemah file to df\n",
    "df = concat([df_01, df_02, df_03, df_04], ignore_index=True)\n",
    "df.to_csv('./pubg_dataset_terjemah/pubg_dataset_terjemah.csv', index=False)"
   ]
  }
 ],
 "metadata": {
  "kernelspec": {
   "display_name": "tf2.13",
   "language": "python",
   "name": "python3"
  },
  "language_info": {
   "codemirror_mode": {
    "name": "ipython",
    "version": 3
   },
   "file_extension": ".py",
   "mimetype": "text/x-python",
   "name": "python",
   "nbconvert_exporter": "python",
   "pygments_lexer": "ipython3",
   "version": "3.10.12"
  }
 },
 "nbformat": 4,
 "nbformat_minor": 2
}
