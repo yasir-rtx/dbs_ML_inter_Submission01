{
 "cells": [
  {
   "cell_type": "markdown",
   "metadata": {},
   "source": [
    "https://huggingface.co/akahana/indonesia-sentiment-roberta"
   ]
  },
  {
   "cell_type": "code",
   "execution_count": null,
   "metadata": {},
   "outputs": [],
   "source": [
    "import os\n",
    "os.environ['TF_CPP_MIN_LOG_LEVEL'] = '3'"
   ]
  },
  {
   "cell_type": "markdown",
   "metadata": {},
   "source": [
    "# Load Model Using Pipeline"
   ]
  },
  {
   "cell_type": "code",
   "execution_count": 12,
   "metadata": {},
   "outputs": [],
   "source": [
    "# Use a pipeline as a high-level helper\n",
    "from transformers import pipeline\n",
    "\n",
    "pipe = pipeline(\"text-classification\", device='cuda', model=\"akahana/indonesia-sentiment-roberta\")"
   ]
  },
  {
   "cell_type": "code",
   "execution_count": 28,
   "metadata": {},
   "outputs": [
    {
     "name": "stdout",
     "output_type": "stream",
     "text": [
      "NETRAL\n",
      "0.8895004391670227\n"
     ]
    }
   ],
   "source": [
    "label = pipe([\n",
    "    \"Hi, namaku yasir\",\n",
    "    \"Aku akan menaklukan dunia\",\n",
    "    \"Dan memerintah orang dengan tangan besi\"\n",
    "])\n",
    "print(label[0]['label'])\n",
    "print(label[0]['score'])"
   ]
  },
  {
   "cell_type": "markdown",
   "metadata": {},
   "source": [
    "# Load Model Directly"
   ]
  },
  {
   "cell_type": "code",
   "execution_count": null,
   "metadata": {},
   "outputs": [],
   "source": [
    "# Load model directly\n",
    "from transformers import AutoTokenizer, AutoModelForSequenceClassification\n",
    "\n",
    "tokenizer = AutoTokenizer.from_pretrained(\"akahana/indonesia-sentiment-roberta\")\n",
    "model = AutoModelForSequenceClassification.from_pretrained(\"akahana/indonesia-sentiment-roberta\")"
   ]
  },
  {
   "cell_type": "code",
   "execution_count": null,
   "metadata": {},
   "outputs": [],
   "source": [
    "tokenizer([\n",
    "    \"Hi, namaku yasir\",\n",
    "    \"Aku akan menaklukan dunia\",\n",
    "    \"Dan memerintah orang dengan tangan besi\"\n",
    "])"
   ]
  },
  {
   "cell_type": "markdown",
   "metadata": {},
   "source": [
    "# Labeling"
   ]
  },
  {
   "cell_type": "code",
   "execution_count": 16,
   "metadata": {},
   "outputs": [],
   "source": [
    "from pandas import read_csv\n",
    "from tqdm import tqdm\n",
    "tqdm.pandas()\n",
    "\n",
    "df = read_csv('./pubg_preprocessing.csv')\n",
    "df.rename(columns={\"text_lemmatize\": \"text\"}, inplace=True)"
   ]
  },
  {
   "cell_type": "code",
   "execution_count": 76,
   "metadata": {},
   "outputs": [],
   "source": [
    "def sentimentLabeling(text):\n",
    "    labeling = pipe(text)\n",
    "    label = labeling[0]['label']\n",
    "    score = labeling[0]['score']\n",
    "    return label, score"
   ]
  },
  {
   "cell_type": "code",
   "execution_count": 96,
   "metadata": {},
   "outputs": [
    {
     "name": "stderr",
     "output_type": "stream",
     "text": [
      "100%|██████████| 20000/20000 [05:23<00:00, 61.82it/s]\n"
     ]
    }
   ],
   "source": [
    "labeling = df['text_slangwords'].progress_apply(sentimentLabeling)"
   ]
  },
  {
   "cell_type": "code",
   "execution_count": 118,
   "metadata": {},
   "outputs": [],
   "source": [
    "labeling_zip = list(zip(*labeling))\n",
    "df['score'] = labeling_zip[1]\n",
    "df['sentiment'] = labeling_zip[0]"
   ]
  },
  {
   "cell_type": "code",
   "execution_count": 119,
   "metadata": {},
   "outputs": [
    {
     "data": {
      "text/html": [
       "<div>\n",
       "<style scoped>\n",
       "    .dataframe tbody tr th:only-of-type {\n",
       "        vertical-align: middle;\n",
       "    }\n",
       "\n",
       "    .dataframe tbody tr th {\n",
       "        vertical-align: top;\n",
       "    }\n",
       "\n",
       "    .dataframe thead th {\n",
       "        text-align: right;\n",
       "    }\n",
       "</style>\n",
       "<table border=\"1\" class=\"dataframe\">\n",
       "  <thead>\n",
       "    <tr style=\"text-align: right;\">\n",
       "      <th></th>\n",
       "      <th>content</th>\n",
       "      <th>text_clean</th>\n",
       "      <th>text_slangwords</th>\n",
       "      <th>text_stopwords</th>\n",
       "      <th>text</th>\n",
       "      <th>score</th>\n",
       "      <th>sentiment</th>\n",
       "    </tr>\n",
       "  </thead>\n",
       "  <tbody>\n",
       "    <tr>\n",
       "      <th>0</th>\n",
       "      <td>Tencent, saya bukan player pro,. Tapi kami sec...</td>\n",
       "      <td>tencent saya bukan player pro tapi kami secara...</td>\n",
       "      <td>tencent saya bukan player profesional tapi kam...</td>\n",
       "      <td>tencent player profesional mengeluh update bug...</td>\n",
       "      <td>tencent player profesional keluh update bug fr...</td>\n",
       "      <td>0.981260</td>\n",
       "      <td>NEGATIF</td>\n",
       "    </tr>\n",
       "    <tr>\n",
       "      <th>1</th>\n",
       "      <td>Bug setelah update. 1 . Turun pesawat ga kebag...</td>\n",
       "      <td>bug setelah update turun pesawat ga kebagian p...</td>\n",
       "      <td>bug setelah update turun pesawat tidak kebagia...</td>\n",
       "      <td>bug update turun pesawat kebagian parasut kara...</td>\n",
       "      <td>bug update turun pesawat bagi parasut karakter...</td>\n",
       "      <td>0.977045</td>\n",
       "      <td>NEGATIF</td>\n",
       "    </tr>\n",
       "    <tr>\n",
       "      <th>2</th>\n",
       "      <td>Keseluruhan game nya udah bagus, apalagi setel...</td>\n",
       "      <td>keseluruhan game nya udah bagus apalagi setela...</td>\n",
       "      <td>keseluruhan game nya sudah bagus apalagi setel...</td>\n",
       "      <td>game bagus update grafik makinn mantap kekecew...</td>\n",
       "      <td>game bagus update grafik makinn mantap kecewa ...</td>\n",
       "      <td>0.886064</td>\n",
       "      <td>POSITIF</td>\n",
       "    </tr>\n",
       "    <tr>\n",
       "      <th>3</th>\n",
       "      <td>Pubg setelah update bnyak aja masalahnya, sepe...</td>\n",
       "      <td>pubg setelah update bnyak aja masalahnya seper...</td>\n",
       "      <td>pubg setelah update banyak saja masalahnya sep...</td>\n",
       "      <td>pubg update bug map pas game player suka jalan...</td>\n",
       "      <td>pubg update bug map pas game player suka jalan...</td>\n",
       "      <td>0.988463</td>\n",
       "      <td>NEGATIF</td>\n",
       "    </tr>\n",
       "    <tr>\n",
       "      <th>4</th>\n",
       "      <td>Game bagus...tapi masih banyak bug...masih per...</td>\n",
       "      <td>game bagus tapi masih banyak bug masih perlu d...</td>\n",
       "      <td>game bagus tapi masih banyak bug masih perlu d...</td>\n",
       "      <td>game bagus bug diperbaiki mode tdm bug player ...</td>\n",
       "      <td>game bagus bug baik mode tdm bug player arena ...</td>\n",
       "      <td>0.673840</td>\n",
       "      <td>POSITIF</td>\n",
       "    </tr>\n",
       "  </tbody>\n",
       "</table>\n",
       "</div>"
      ],
      "text/plain": [
       "                                             content  \\\n",
       "0  Tencent, saya bukan player pro,. Tapi kami sec...   \n",
       "1  Bug setelah update. 1 . Turun pesawat ga kebag...   \n",
       "2  Keseluruhan game nya udah bagus, apalagi setel...   \n",
       "3  Pubg setelah update bnyak aja masalahnya, sepe...   \n",
       "4  Game bagus...tapi masih banyak bug...masih per...   \n",
       "\n",
       "                                          text_clean  \\\n",
       "0  tencent saya bukan player pro tapi kami secara...   \n",
       "1  bug setelah update turun pesawat ga kebagian p...   \n",
       "2  keseluruhan game nya udah bagus apalagi setela...   \n",
       "3  pubg setelah update bnyak aja masalahnya seper...   \n",
       "4  game bagus tapi masih banyak bug masih perlu d...   \n",
       "\n",
       "                                     text_slangwords  \\\n",
       "0  tencent saya bukan player profesional tapi kam...   \n",
       "1  bug setelah update turun pesawat tidak kebagia...   \n",
       "2  keseluruhan game nya sudah bagus apalagi setel...   \n",
       "3  pubg setelah update banyak saja masalahnya sep...   \n",
       "4  game bagus tapi masih banyak bug masih perlu d...   \n",
       "\n",
       "                                      text_stopwords  \\\n",
       "0  tencent player profesional mengeluh update bug...   \n",
       "1  bug update turun pesawat kebagian parasut kara...   \n",
       "2  game bagus update grafik makinn mantap kekecew...   \n",
       "3  pubg update bug map pas game player suka jalan...   \n",
       "4  game bagus bug diperbaiki mode tdm bug player ...   \n",
       "\n",
       "                                                text     score sentiment  \n",
       "0  tencent player profesional keluh update bug fr...  0.981260   NEGATIF  \n",
       "1  bug update turun pesawat bagi parasut karakter...  0.977045   NEGATIF  \n",
       "2  game bagus update grafik makinn mantap kecewa ...  0.886064   POSITIF  \n",
       "3  pubg update bug map pas game player suka jalan...  0.988463   NEGATIF  \n",
       "4  game bagus bug baik mode tdm bug player arena ...  0.673840   POSITIF  "
      ]
     },
     "execution_count": 119,
     "metadata": {},
     "output_type": "execute_result"
    }
   ],
   "source": [
    "df.head()"
   ]
  }
 ],
 "metadata": {
  "kernelspec": {
   "display_name": "tf2.13",
   "language": "python",
   "name": "python3"
  },
  "language_info": {
   "codemirror_mode": {
    "name": "ipython",
    "version": 3
   },
   "file_extension": ".py",
   "mimetype": "text/x-python",
   "name": "python",
   "nbconvert_exporter": "python",
   "pygments_lexer": "ipython3",
   "version": "3.10.12"
  }
 },
 "nbformat": 4,
 "nbformat_minor": 2
}
