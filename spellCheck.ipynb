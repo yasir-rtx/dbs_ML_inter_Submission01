{
 "cells": [
  {
   "cell_type": "code",
   "execution_count": 1,
   "metadata": {},
   "outputs": [
    {
     "name": "stderr",
     "output_type": "stream",
     "text": [
      "[nltk_data] Downloading package words to /home/yelf/nltk_data...\n",
      "[nltk_data]   Package words is already up-to-date!\n"
     ]
    }
   ],
   "source": [
    "import os\n",
    "os.environ['TF_CPP_MIN_LOG_LEVEL'] = '3'\n",
    "from IPython.display import clear_output\n",
    "\n",
    "from keras.preprocessing.text import Tokenizer\n",
    "from nltk.stem import WordNetLemmatizer\n",
    "from nlp_id.lemmatizer import Lemmatizer\n",
    "from collections import Counter\n",
    "from pandas import read_csv\n",
    "from pandas import DataFrame\n",
    "import pickle, re, json, time\n",
    "from string import punctuation\n",
    "import numpy as np\n",
    "from requests import get\n",
    "from io import StringIO\n",
    "import nltk, re, json, csv\n",
    "nltk.download(\"words\")\n",
    "from nltk.corpus import words\n",
    "from tqdm import tqdm\n",
    "import re"
   ]
  },
  {
   "cell_type": "code",
   "execution_count": 2,
   "metadata": {},
   "outputs": [
    {
     "data": {
      "text/html": [
       "<div>\n",
       "<style scoped>\n",
       "    .dataframe tbody tr th:only-of-type {\n",
       "        vertical-align: middle;\n",
       "    }\n",
       "\n",
       "    .dataframe tbody tr th {\n",
       "        vertical-align: top;\n",
       "    }\n",
       "\n",
       "    .dataframe thead th {\n",
       "        text-align: right;\n",
       "    }\n",
       "</style>\n",
       "<table border=\"1\" class=\"dataframe\">\n",
       "  <thead>\n",
       "    <tr style=\"text-align: right;\">\n",
       "      <th></th>\n",
       "      <th>text</th>\n",
       "      <th>text_translated</th>\n",
       "      <th>text_terjemahan</th>\n",
       "    </tr>\n",
       "  </thead>\n",
       "  <tbody>\n",
       "    <tr>\n",
       "      <th>0</th>\n",
       "      <td>tencent saya bukan player profesional tapi kam...</td>\n",
       "      <td>Tencent, I'm not a professional player, but we...</td>\n",
       "      <td>Tencent, saya bukan pemain profesional, tapi k...</td>\n",
       "    </tr>\n",
       "    <tr>\n",
       "      <th>1</th>\n",
       "      <td>bug setelah update turun pesawat tidak kebagia...</td>\n",
       "      <td>bug after the update, getting off the plane di...</td>\n",
       "      <td>bug setelah update, turun dari pesawat tidak d...</td>\n",
       "    </tr>\n",
       "    <tr>\n",
       "      <th>2</th>\n",
       "      <td>keseluruhan game nya sudah bagus apalagi setel...</td>\n",
       "      <td>Overall the game is good, especially after the...</td>\n",
       "      <td>Secara keseluruhan gamenya bagus, apalagi sete...</td>\n",
       "    </tr>\n",
       "    <tr>\n",
       "      <th>3</th>\n",
       "      <td>pubg setelah update bnyak saja masalahnya sepe...</td>\n",
       "      <td>After updating PUBG there were lots of problem...</td>\n",
       "      <td>Setelah update PUBG banyak sekali permasalahan...</td>\n",
       "    </tr>\n",
       "    <tr>\n",
       "      <th>4</th>\n",
       "      <td>game bagus tapi masih banyak bug masih perlu d...</td>\n",
       "      <td>good game but there are still lots of bugs tha...</td>\n",
       "      <td>permainan bagus tapi masih banyak bug yang mas...</td>\n",
       "    </tr>\n",
       "  </tbody>\n",
       "</table>\n",
       "</div>"
      ],
      "text/plain": [
       "                                                text  \\\n",
       "0  tencent saya bukan player profesional tapi kam...   \n",
       "1  bug setelah update turun pesawat tidak kebagia...   \n",
       "2  keseluruhan game nya sudah bagus apalagi setel...   \n",
       "3  pubg setelah update bnyak saja masalahnya sepe...   \n",
       "4  game bagus tapi masih banyak bug masih perlu d...   \n",
       "\n",
       "                                     text_translated  \\\n",
       "0  Tencent, I'm not a professional player, but we...   \n",
       "1  bug after the update, getting off the plane di...   \n",
       "2  Overall the game is good, especially after the...   \n",
       "3  After updating PUBG there were lots of problem...   \n",
       "4  good game but there are still lots of bugs tha...   \n",
       "\n",
       "                                     text_terjemahan  \n",
       "0  Tencent, saya bukan pemain profesional, tapi k...  \n",
       "1  bug setelah update, turun dari pesawat tidak d...  \n",
       "2  Secara keseluruhan gamenya bagus, apalagi sete...  \n",
       "3  Setelah update PUBG banyak sekali permasalahan...  \n",
       "4  permainan bagus tapi masih banyak bug yang mas...  "
      ]
     },
     "execution_count": 2,
     "metadata": {},
     "output_type": "execute_result"
    }
   ],
   "source": [
    "df = read_csv('./pubg_dataset_terjemah/pubg_dataset_terjemah.csv')\n",
    "df.columns\n",
    "df.head()"
   ]
  },
  {
   "cell_type": "code",
   "execution_count": 3,
   "metadata": {},
   "outputs": [],
   "source": [
    "# REMOVE SPECIAL CHARACTERS & CASE FOLDING\n",
    "def cleaning(text):\n",
    "    text = re.sub(r'@[A-Za-z0-9]+', '', str(text))              # menghapus mention\n",
    "    text = re.sub(r'#[A-Za-z0-9]+', '', text)                   # menghapus hashtag\n",
    "    text = re.sub(r'RT[\\s]', '', text)                          # menghapus RT\n",
    "    text = re.sub(r\"http\\S+\", '', text)                         # menghapus link\n",
    "    text = re.sub(r'[0-9]+', '', text)                          # menghapus angka\n",
    "    text = re.sub(r\"[,.;@#?!&$]+\\ *\", \" \", text)                # mengganti tanda baca dengan spasi\n",
    "    text = re.sub(r'[^\\w\\s]', '', text)                         # menghapus karakter selain huruf dan angka\n",
    "    text = text.replace('\\n', ' ')                              # mengganti baris baru dengan spasi\n",
    "    text = text.translate(str.maketrans('', '', punctuation))   # menghapus semua tanda baca\n",
    "    text = text.strip(' ')                                      # menghapus karakter spasi dari kiri dan kanan teks\n",
    "    text = re.sub(r' +', ' ', text)                             # Remove double space\n",
    "    return text.lower()"
   ]
  },
  {
   "cell_type": "code",
   "execution_count": 4,
   "metadata": {},
   "outputs": [],
   "source": [
    "df['text_clean'] = df['text_terjemahan'].apply(cleaning)"
   ]
  },
  {
   "cell_type": "code",
   "execution_count": 13,
   "metadata": {},
   "outputs": [
    {
     "name": "stdout",
     "output_type": "stream",
     "text": [
      "\n",
      "Unique words :  10741\n"
     ]
    }
   ],
   "source": [
    "# Counter words function declaration\n",
    "def counter_word(texts):\n",
    "    count = Counter()\n",
    "    for text in texts.values:\n",
    "        for word in text.split():\n",
    "            word = word.lower()\n",
    "            count[word] += 1\n",
    "    return count\n",
    "\n",
    "# Count unique words\n",
    "counter = counter_word(df['text_clean'])\n",
    "num_unique_words = len(counter)     # 20993\n",
    "# counter.most_common(5)\n",
    "print(\"\\nUnique words : \", num_unique_words)\n",
    "\n",
    "# Tokenizer word from text_lemmatize coloumn\n",
    "tokenizer = Tokenizer(num_words=num_unique_words)\n",
    "tokenizer.fit_on_texts(df['text_clean'])\n",
    "\n",
    "# Get Word Index from tokenizer\n",
    "word_index = tokenizer.word_index\n",
    "\n",
    "with open('./word_dict.json', mode='w') as file:\n",
    "    json.dump(counter, file, indent=4)"
   ]
  },
  {
   "cell_type": "code",
   "execution_count": 14,
   "metadata": {},
   "outputs": [
    {
     "name": "stdout",
     "output_type": "stream",
     "text": [
      "CPU times: user 2 μs, sys: 0 ns, total: 2 μs\n",
      "Wall time: 4.77 μs\n"
     ]
    },
    {
     "name": "stderr",
     "output_type": "stream",
     "text": [
      "100%|██████████| 10741/10741 [1:28:06<00:00,  2.03it/s]"
     ]
    },
    {
     "name": "stdout",
     "output_type": "stream",
     "text": [
      "Execution time in seconds: 5286.106488\n"
     ]
    },
    {
     "name": "stderr",
     "output_type": "stream",
     "text": [
      "\n"
     ]
    }
   ],
   "source": [
    "# LEMMATIZING\n",
    "def lemmatizerWords(text):\n",
    "    words = text.split()\n",
    "    lemmatized_words = []\n",
    "    lemmatizer  = Lemmatizer()\n",
    "    lemmatized_words.append(lemmatizer.lemmatize(word.lower()) for word in words)\n",
    "    return ' '.join(lemmatized_words[0])\n",
    "\n",
    "new_word_dict = {}\n",
    "%time\n",
    "start_time = time.time()\n",
    "for word, count in tqdm(counter.items()):\n",
    "    text_lemmatized = lemmatizerWords(word)\n",
    "    # clear_output(wait=True)\n",
    "    # print(word)\n",
    "    # print(text_lemmatized)\n",
    "    new_word_dict[text_lemmatized] = count\n",
    "    \n",
    "end_time = time.time()\n",
    "execution_time = (end_time - start_time) / 60\n",
    "print(f\"Execution time in minutes: {execution_time:.6f}\")"
   ]
  },
  {
   "cell_type": "code",
   "execution_count": 5,
   "metadata": {},
   "outputs": [
    {
     "name": "stdout",
     "output_type": "stream",
     "text": [
      "New Unique Words :  6965\n"
     ]
    }
   ],
   "source": [
    "print(\"New Unique Words : \", len(new_word_dict))"
   ]
  },
  {
   "cell_type": "code",
   "execution_count": 34,
   "metadata": {},
   "outputs": [],
   "source": [
    "with open('./new_word_dict.json', mode='w') as file:\n",
    "    json.dump(new_word_dict, file, indent=4)\n",
    "    \n",
    "unword_df = DataFrame(new_word_dict.items(), columns=[\"Word\", \"Count\"])\n",
    "unword_df\n",
    "unword_df.to_csv('./new_word_dict.csv', index=False)"
   ]
  },
  {
   "cell_type": "markdown",
   "metadata": {},
   "source": [
    "# English Dictionary Check"
   ]
  },
  {
   "cell_type": "code",
   "execution_count": 47,
   "metadata": {},
   "outputs": [
    {
     "name": "stdout",
     "output_type": "stream",
     "text": [
      "3128 cheeter\n",
      "Skip :  4556\n",
      "In Dict :  3128\n",
      "Not In  :  4556\n"
     ]
    }
   ],
   "source": [
    "# CHECk is the word exist on english dictionary\n",
    "def is_english_word(word):\n",
    "    english_words = set(words.words())\n",
    "    return word.lower() not in english_words\n",
    "\n",
    "word_dict = {}\n",
    "not_word_dict = {}\n",
    "\n",
    "i, j = 0, 0\n",
    "for word, count in new_word_dict.items():\n",
    "    if is_english_word(word):\n",
    "        i+=1\n",
    "        clear_output(wait=True)\n",
    "        print(i, word)\n",
    "        print(\"Skip : \", j)\n",
    "        not_word_dict[word] = count\n",
    "    else:\n",
    "        j+=1\n",
    "        clear_output(wait=True)\n",
    "        print(i, word)\n",
    "        print(\"Skip : \", j)\n",
    "        word_dict[word] = count\n",
    "        \n",
    "print(\"In Dict : \", i)\n",
    "print(\"Not In  : \", j)"
   ]
  },
  {
   "cell_type": "code",
   "execution_count": 48,
   "metadata": {},
   "outputs": [
    {
     "data": {
      "text/plain": [
       "3128"
      ]
     },
     "execution_count": 48,
     "metadata": {},
     "output_type": "execute_result"
    }
   ],
   "source": [
    "len(not_word_dict)"
   ]
  },
  {
   "cell_type": "markdown",
   "metadata": {},
   "source": [
    "# Indonesia Dictionary Check"
   ]
  },
  {
   "cell_type": "code",
   "execution_count": 6,
   "metadata": {},
   "outputs": [
    {
     "name": "stdout",
     "output_type": "stream",
     "text": [
      "New Unique Words :  6965\n"
     ]
    }
   ],
   "source": [
    "with open('./new_word_dict.json', mode='r') as file:\n",
    "    new_word_dict = json.load(file)\n",
    "    \n",
    "print(\"New Unique Words : \", len(new_word_dict))"
   ]
  },
  {
   "cell_type": "code",
   "execution_count": 7,
   "metadata": {},
   "outputs": [
    {
     "name": "stdout",
     "output_type": "stream",
     "text": [
      "CPU times: user 2 μs, sys: 0 ns, total: 2 μs\n",
      "Wall time: 4.05 μs\n"
     ]
    },
    {
     "name": "stderr",
     "output_type": "stream",
     "text": [
      "100%|██████████| 6965/6965 [2:10:51<00:00,  1.13s/it]   "
     ]
    },
    {
     "name": "stdout",
     "output_type": "stream",
     "text": [
      "In Dict :  0\n",
      "Not In  :  0\n",
      "Execution time in minutes: 130.852832\n"
     ]
    },
    {
     "name": "stderr",
     "output_type": "stream",
     "text": [
      "\n"
     ]
    }
   ],
   "source": [
    "from kbbi import KBBI\n",
    "\n",
    "word_dict = {}\n",
    "not_word_dict = {}\n",
    "\n",
    "def in_indonesia_word(kata):\n",
    "    return KBBI(kata)\n",
    "\n",
    "i, j = 0, 0\n",
    "%time\n",
    "start_time = time.time()\n",
    "for word, count in tqdm(new_word_dict.items()):\n",
    "    try:\n",
    "        if in_indonesia_word(word):\n",
    "            # print(\"=> Word Dictioonary\")\n",
    "            # i+=1\n",
    "            # clear_output(wait=True)\n",
    "            # print(\"In Word Dict     : \", i, word)\n",
    "            # print(\"Not In Word Dict : \", j)\n",
    "            word_dict[word] = count\n",
    "    except:\n",
    "        # print(\"=> Not Word Dictionary\")\n",
    "        # j+=1\n",
    "        # clear_output(wait=True)\n",
    "        # print(\"In Word Dict     : \", i)\n",
    "        # print(\"Not In Word Dict : \", j, word)\n",
    "        not_word_dict[word] = count\n",
    "\n",
    "print(\"In Dict : \", i)\n",
    "print(\"Not In  : \", j)\n",
    "\n",
    "end_time = time.time()\n",
    "execution_time = (end_time - start_time) / 60\n",
    "print(f\"Execution time in minutes: {execution_time:.6f}\")"
   ]
  },
  {
   "cell_type": "code",
   "execution_count": 8,
   "metadata": {},
   "outputs": [
    {
     "name": "stdout",
     "output_type": "stream",
     "text": [
      "New Unique Words :  6879\n"
     ]
    }
   ],
   "source": [
    "print(\"New Unique Words : \", len(not_word_dict))"
   ]
  },
  {
   "cell_type": "code",
   "execution_count": 9,
   "metadata": {},
   "outputs": [],
   "source": [
    "with open('./not_word_dict.json', mode='w') as file:\n",
    "    json.dump(not_word_dict, file, indent=4)\n",
    "    \n",
    "unword_df = DataFrame(not_word_dict.items(), columns=[\"Word\", \"Count\"])\n",
    "unword_df\n",
    "unword_df.to_csv('./not_word_dict.csv', index=False)\n",
    "    \n",
    "unword_df = DataFrame(not_word_dict.items(), columns=[\"Word\", \"Count\"])\n",
    "unword_df\n",
    "unword_df.to_csv('./not_word_dict.csv', index=False)"
   ]
  },
  {
   "cell_type": "code",
   "execution_count": 10,
   "metadata": {},
   "outputs": [],
   "source": [
    "with open('./word_dict.json', mode='w') as file:\n",
    "    json.dump(word_dict, file, indent=4)\n",
    "    \n",
    "unword_df = DataFrame(word_dict.items(), columns=[\"Word\", \"Count\"])\n",
    "unword_df\n",
    "unword_df.to_csv('./word_dict.json.csv', index=False)"
   ]
  },
  {
   "cell_type": "markdown",
   "metadata": {},
   "source": [
    "# CEK DISINI"
   ]
  },
  {
   "cell_type": "code",
   "execution_count": 6,
   "metadata": {},
   "outputs": [],
   "source": [
    "import json\n",
    "# with open('./not_word_dict.json', mode='r') as file:\n",
    "#     not_word_dict = json.load(file)\n",
    "# print(\"Jumlah Kata : \", len(not_word_dict), \"kata\")\n",
    "\n",
    "with open('./resources/slangwords/slangwords_dict.json', mode='r') as file:\n",
    "    slangwords_dict = json.load(file)\n",
    "# slangwords_dict\n",
    "\n",
    "with open('./resources/stopwords/stopwords_dict.json', mode='r') as file:\n",
    "    stopwords_dict = json.load(file)"
   ]
  },
  {
   "cell_type": "code",
   "execution_count": 7,
   "metadata": {},
   "outputs": [
    {
     "name": "stdout",
     "output_type": "stream",
     "text": [
      "Jumlah kata :  6034 kata\n"
     ]
    }
   ],
   "source": [
    "# Remove slangwords\n",
    "remove_word = []\n",
    "for word, count in not_word_dict.items():\n",
    "    if word in slangwords_dict:\n",
    "        remove_word.append(word)\n",
    "\n",
    "for word in remove_word:\n",
    "    del not_word_dict[word]\n",
    "print(\"Jumlah kata : \", len(not_word_dict), \"kata\")"
   ]
  },
  {
   "cell_type": "code",
   "execution_count": 8,
   "metadata": {},
   "outputs": [
    {
     "name": "stdout",
     "output_type": "stream",
     "text": [
      "Jumlah kata :  5671 kata\n"
     ]
    }
   ],
   "source": [
    "# Remove stopwords\n",
    "remove_word = []\n",
    "for word, count in not_word_dict.items():\n",
    "    if word in stopwords_dict:\n",
    "        remove_word.append(word)\n",
    "\n",
    "for word in remove_word:\n",
    "    del not_word_dict[word]\n",
    "print(\"Jumlah kata : \", len(not_word_dict), \"kata\")"
   ]
  },
  {
   "cell_type": "code",
   "execution_count": 9,
   "metadata": {},
   "outputs": [
    {
     "name": "stdout",
     "output_type": "stream",
     "text": [
      "Jumlah kata :  5280 kata\n"
     ]
    }
   ],
   "source": [
    "# Remove \"nya\"\n",
    "def remove_nya(kata):\n",
    "    return re.sub(r'nya$', '', kata)\n",
    "\n",
    "new_slangwords_dict = {}\n",
    "for word, count in not_word_dict.items():\n",
    "    if \"nya\" in word:\n",
    "        fixed_word = remove_nya(word)\n",
    "        # print(word, \"==>\", fixed_word)\n",
    "        new_slangwords_dict[word] = fixed_word\n",
    "\n",
    "with open('./resources/slangwords/new_slangwords_dict.json', mode=\"w\") as file:\n",
    "    json.dump(new_slangwords_dict, file, indent=4)\n",
    "    \n",
    "remove_word = []\n",
    "for word, count in not_word_dict.items():\n",
    "    if word in new_slangwords_dict:\n",
    "        remove_word.append(word)\n",
    "        \n",
    "for word in remove_word:\n",
    "    del not_word_dict[word]\n",
    "    \n",
    "print(\"Jumlah kata : \", len(not_word_dict), \"kata\")"
   ]
  },
  {
   "cell_type": "code",
   "execution_count": 40,
   "metadata": {},
   "outputs": [
    {
     "data": {
      "text/plain": [
       "392"
      ]
     },
     "execution_count": 40,
     "metadata": {},
     "output_type": "execute_result"
    }
   ],
   "source": [
    "with open('./resources/slangwords/new_slangwords_dict.json', \"r\") as file:\n",
    "    new_slangwords_dict = json.load(file)\n",
    "len(new_slangwords_dict)"
   ]
  },
  {
   "cell_type": "code",
   "execution_count": 10,
   "metadata": {},
   "outputs": [],
   "source": [
    "# Remove \"di\"\n",
    "def remove_di(kata):\n",
    "    return re.sub(r'^di', '', kata)\n",
    "\n",
    "# new_slangwords_dict = {}\n",
    "for word, count in not_word_dict.items():\n",
    "    if \"di\" in word:\n",
    "        fixed_word = remove_di(word)\n",
    "        # print(word, \"==>\", fixed_word)\n",
    "        if word == fixed_word:\n",
    "            continue\n",
    "        else:\n",
    "            new_slangwords_dict[word] = fixed_word\n",
    "\n",
    "with open('./resources/slangwords/new_slangwords_dict.json', mode=\"r+\") as file:\n",
    "    json.dump(new_slangwords_dict, file, indent=4)"
   ]
  },
  {
   "cell_type": "code",
   "execution_count": 13,
   "metadata": {},
   "outputs": [
    {
     "data": {
      "text/plain": [
       "497"
      ]
     },
     "execution_count": 13,
     "metadata": {},
     "output_type": "execute_result"
    }
   ],
   "source": [
    "len(new_slangwords_dict)"
   ]
  },
  {
   "cell_type": "code",
   "execution_count": 12,
   "metadata": {},
   "outputs": [],
   "source": []
  },
  {
   "cell_type": "code",
   "execution_count": 43,
   "metadata": {},
   "outputs": [
    {
     "data": {
      "text/plain": [
       "{'nyaman': 'nyaman',\n",
       " 'sinyal': 'sinyal',\n",
       " 'nyata': 'nyata',\n",
       " 'gbnya': 'gb',\n",
       " 'processornya': 'processor',\n",
       " 'servernya': 'server',\n",
       " 'ponselnya': 'ponsel',\n",
       " 'satusatunya': 'satusatu',\n",
       " 'hentihentinya': 'hentihenti',\n",
       " 'msnya': 'ms',\n",
       " 'mempedulikannya': 'mempedulikan',\n",
       " 'ratenya': 'rate',\n",
       " 'micnya': 'mic',\n",
       " 'senyap': 'senyap',\n",
       " 'karyawannya': 'karyawan',\n",
       " 'kerjasamanya': 'kerjasama',\n",
       " 'mengupgradenya': 'mengupgrade',\n",
       " 'mengupdatenya': 'mengupdate',\n",
       " 'nyangkut': 'nyangkut',\n",
       " 'captchanya': 'captcha',\n",
       " 'settingnya': 'setting',\n",
       " 'nyawa': 'nyawa',\n",
       " 'replaynya': 'replay',\n",
       " 'originalnya': 'original',\n",
       " 'skillnya': 'skill',\n",
       " 'mpsnya': 'mps',\n",
       " 'gemsnya': 'gems',\n",
       " 'framingnya': 'framing',\n",
       " 'damagenya': 'damage',\n",
       " 'matmakingnya': 'matmaking',\n",
       " 'matchmakingnya': 'matchmaking',\n",
       " 'reloadnya': 'reload',\n",
       " 'hdnya': 'hd',\n",
       " 'recoilnya': 'recoil',\n",
       " 'framedropnya': 'framedrop',\n",
       " 'fixnya': 'fix',\n",
       " 'menginstalnya': 'menginstal',\n",
       " 'tbtbnya': 'tbtb',\n",
       " 'renderingnya': 'rendering',\n",
       " 'puzzlenya': 'puzzle',\n",
       " 'stapnya': 'stap',\n",
       " 'nyala': 'nyala',\n",
       " 'loadnya': 'load',\n",
       " 'chiternya': 'chiter',\n",
       " 'kraftonnya': 'krafton',\n",
       " 'tekatekinya': 'tekateki',\n",
       " 'gmnya': 'gm',\n",
       " 'zoomnya': 'zoom',\n",
       " 'mendownloadnya': 'mendownload',\n",
       " 'macammacamnya': 'macammacam',\n",
       " 'worknya': 'work',\n",
       " 'recolnya': 'recol',\n",
       " 'lvnya': 'lv',\n",
       " 'obbnya': 'obb',\n",
       " 'speakernya': 'speaker',\n",
       " 'cheatnya': 'cheat',\n",
       " 'aiponnya': 'aipon',\n",
       " 'devnya': 'dev',\n",
       " 'teamnya': 'team',\n",
       " 'ifennya': 'ifen',\n",
       " 'seasonnya': 'season',\n",
       " 'reviewnya': 'review',\n",
       " 'ramadhannya': 'ramadhan',\n",
       " 'mechanya': 'mecha',\n",
       " 'gachanya': 'gacha',\n",
       " 'midnya': 'mid',\n",
       " 'mekkahnya': 'mekkah',\n",
       " 'dmrnya': 'dmr',\n",
       " 'chipsetnya': 'chipset',\n",
       " 'sensinya': 'sensi',\n",
       " 'passwordnya': 'password',\n",
       " 'gemnya': 'gem',\n",
       " 'mitiknya': 'mitik',\n",
       " 'pengennya': 'pengen',\n",
       " 'skinskinnya': 'skinskin',\n",
       " 'acidnya': 'acid',\n",
       " 'headsetnya': 'headset',\n",
       " 'settingannya': 'settingan',\n",
       " 'lainlainnya': 'lainlain',\n",
       " 'sebanyakbanyaknya': 'sebanyakbanyak',\n",
       " 'bertanyatanya': 'bertanyata',\n",
       " 'respawnnya': 'respawn',\n",
       " 'cmnnya': 'cmn',\n",
       " 'kustomisasinya': 'kustomisasi',\n",
       " 'chipnya': 'chip',\n",
       " 'gyronya': 'gyro',\n",
       " 'healingnya': 'healing',\n",
       " 'bossnya': 'boss',\n",
       " 'outfitnya': 'outfit',\n",
       " 'fairnya': 'fair',\n",
       " 'ipednya': 'iped',\n",
       " 'hudnya': 'hud',\n",
       " 'framefpsnya': 'framefps',\n",
       " 'screenshotnya': 'screenshot',\n",
       " 'povnya': 'pov',\n",
       " 'groundnya': 'ground',\n",
       " 'powernya': 'power',\n",
       " 'slurringnya': 'slurring',\n",
       " 'jetpacknya': 'jetpack',\n",
       " 'animenya': 'anime',\n",
       " 'crosshairnya': 'crosshair',\n",
       " 'actionnya': 'action',\n",
       " 'tpviewnya': 'tpview',\n",
       " 'apaapanya': 'apaapa',\n",
       " 'optimasinya': 'optimasi',\n",
       " 'ngomongnya': 'ngomong',\n",
       " 'sblmnya': 'sblm',\n",
       " 'fremnya': 'frem',\n",
       " 'randomnya': 'random',\n",
       " 'stringnya': 'string',\n",
       " 'rumahrumahnya': 'rumahrumah',\n",
       " 'rollbacknya': 'rollback',\n",
       " 'uinya': 'ui',\n",
       " 'linknya': 'link',\n",
       " 'supportnya': 'support',\n",
       " 'maphnya': 'maph',\n",
       " 'framnya': 'fram',\n",
       " 'controllernya': 'controller',\n",
       " 'buffnya': 'buff',\n",
       " 'asusnya': 'asus',\n",
       " 'touchscreennya': 'touchscreen',\n",
       " 'rpnya': 'rp',\n",
       " 'buggynya': 'buggy',\n",
       " 'lawanlawannya': 'lawanlawan',\n",
       " 'scopenya': 'scope',\n",
       " 'nunggunya': 'nunggu',\n",
       " 'graziernya': 'grazier',\n",
       " 'soundnya': 'sound',\n",
       " 'noneventnya': 'nonevent',\n",
       " 'layoutnya': 'layout',\n",
       " 'keraftonnya': 'kerafton',\n",
       " 'collabnya': 'collab',\n",
       " 'ketidaksopanannya': 'ketidaksopanan',\n",
       " 'nyali': 'nyali',\n",
       " 'bandnya': 'band',\n",
       " 'spacenya': 'space',\n",
       " 'bootingnya': 'booting',\n",
       " 'bootnya': 'boot',\n",
       " 'langkahlangkahnya': 'langkahlangkah',\n",
       " 'movemannya': 'moveman',\n",
       " 'internya': 'inter',\n",
       " 'asepnya': 'asep',\n",
       " 'evogroundnya': 'evoground',\n",
       " 'pinknya': 'pink',\n",
       " 'nyarinya': 'nyari',\n",
       " 'nyalain': 'nyalain',\n",
       " 'ketidaknyamanan': 'ketidaknyamanan',\n",
       " 'interfacenya': 'interface',\n",
       " 'nyanyi': 'nyanyi',\n",
       " 'patchnya': 'patch',\n",
       " 'mobilenya': 'mobile',\n",
       " 'resourcenya': 'resource',\n",
       " 'landingnya': 'landing',\n",
       " 'chatnya': 'chat',\n",
       " 'meresetnya': 'mereset',\n",
       " 'framedownnya': 'framedown',\n",
       " 'shotgunnya': 'shotgun',\n",
       " 'lootingnya': 'looting',\n",
       " 'providernya': 'provider',\n",
       " 'vouchernya': 'voucher',\n",
       " 'aksesorisnya': 'aksesoris',\n",
       " 'iphonenya': 'iphone',\n",
       " 'menguninstallnya': 'menguninstall',\n",
       " 'hitsnya': 'hits',\n",
       " 'laggingnya': 'lagging',\n",
       " 'leggernya': 'legger',\n",
       " 'spawnnya': 'spawn',\n",
       " 'kakikakinya': 'kakikaki',\n",
       " 'confignya': 'config',\n",
       " 'menindaklanjutinya': 'menindaklanjuti',\n",
       " 'fremenya': 'freme',\n",
       " 'chestnya': 'chest',\n",
       " 'toolnya': 'tool',\n",
       " 'realitanya': 'realita',\n",
       " 'tancentnya': 'tancent',\n",
       " 'nyaring': 'nyaring',\n",
       " 'tomboltombolnya': 'tomboltombol',\n",
       " 'payloadnya': 'payload',\n",
       " 'renyah': 'renyah',\n",
       " 'fiturfiturnya': 'fiturfitur',\n",
       " 'boomnya': 'boom',\n",
       " 'freezenya': 'freeze',\n",
       " 'spectatornya': 'spectator',\n",
       " 'zombienya': 'zombie',\n",
       " 'meresponnya': 'merespon',\n",
       " 'duaduanya': 'duadua',\n",
       " 'ssnya': 'ss',\n",
       " 'hackernya': 'hacker',\n",
       " 'knocknya': 'knock',\n",
       " 'friendlistnya': 'friendlist',\n",
       " 'survivalnya': 'survival',\n",
       " 'roomnya': 'room',\n",
       " 'cloudnya': 'cloud',\n",
       " 'goldnya': 'gold',\n",
       " 'tiltnya': 'tilt',\n",
       " 'mengutakatiknya': 'mengutakatik',\n",
       " 'crownnya': 'crown',\n",
       " 'liviknya': 'livik',\n",
       " 'balingbalingnya': 'balingbaling',\n",
       " 'passnya': 'pass',\n",
       " 'dilaynya': 'dilay',\n",
       " 'trialnya': 'trial',\n",
       " 'rataratanya': 'ratarata',\n",
       " 'nyentilnya': 'nyentil',\n",
       " 'drivernya': 'driver',\n",
       " 'legnya': 'leg',\n",
       " 'merendernya': 'merender',\n",
       " 'pubgmnya': 'pubgm',\n",
       " 'antialiasingnya': 'antialiasing',\n",
       " 'notenya': 'note',\n",
       " 'chesternya': 'chester',\n",
       " 'medkitnya': 'medkit',\n",
       " 'snapdragonnya': 'snapdragon',\n",
       " 'guinya': 'gui',\n",
       " 'nyangka': 'nyangka',\n",
       " 'pluginnya': 'plugin',\n",
       " 'promonya': 'promo',\n",
       " 'gemenya': 'geme',\n",
       " 'sfxnya': 'sfx',\n",
       " 'endingnya': 'ending',\n",
       " 'rankingnya': 'ranking',\n",
       " 'romnya': 'rom',\n",
       " 'delaynya': 'delay',\n",
       " 'karakinnya': 'karakin',\n",
       " 'orangorangnya': 'orangorang',\n",
       " 'scorenya': 'score',\n",
       " 'codmnya': 'codm',\n",
       " 'sebesarbesarnya': 'sebesarbesar',\n",
       " 'frameratenya': 'framerate',\n",
       " 'hdrnya': 'hdr',\n",
       " 'mbnya': 'mb',\n",
       " 'pqrasutnya': 'pqrasut',\n",
       " 'bundlenya': 'bundle',\n",
       " 'nyambungnya': 'nyambung',\n",
       " 'fremmnya': 'fremm',\n",
       " 'lvlnya': 'lvl',\n",
       " 'mempostingnya': 'memposting',\n",
       " 'legendnya': 'legend',\n",
       " 'behaviornya': 'behavior',\n",
       " 'feedbacknya': 'feedback',\n",
       " 'ngfrmnya': 'ngfrm',\n",
       " 'partynya': 'party',\n",
       " 'recalnya': 'recal',\n",
       " 'tandatandanya': 'tandatanda',\n",
       " 'spraynya': 'spray',\n",
       " 'spinnya': 'spin',\n",
       " 'likenya': 'like',\n",
       " 'microphonenya': 'microphone',\n",
       " 'boxnya': 'box',\n",
       " 'hostnya': 'host',\n",
       " 'outnya': 'out',\n",
       " 'mengotakatiknya': 'mengotakatik',\n",
       " 'flyernya': 'flyer',\n",
       " 'stucknya': 'stuck',\n",
       " 'anya': 'a',\n",
       " 'feednya': 'feed',\n",
       " 'hewanhewannya': 'hewanhewan',\n",
       " 'skuadnya': 'skuad',\n",
       " 'rollingnya': 'rolling',\n",
       " 'cardnya': 'card',\n",
       " 'updaternya': 'updater',\n",
       " 'instalnya': 'instal',\n",
       " 'speednya': 'speed',\n",
       " 'tencentnya': 'tencent',\n",
       " 'touchnya': 'touch',\n",
       " 'nyatain': 'nyatain',\n",
       " 'ingamenya': 'ingame',\n",
       " 'buffernya': 'buffer',\n",
       " 'fansnya': 'fans',\n",
       " 'gadgetnya': 'gadget',\n",
       " 'loopnya': 'loop',\n",
       " 'temennya': 'temen',\n",
       " 'snipernya': 'sniper',\n",
       " 'magazinenya': 'magazine',\n",
       " 'proneshotnya': 'proneshot',\n",
       " 'firenya': 'fire',\n",
       " 'graffitinya': 'graffiti',\n",
       " 'spaknya': 'spak',\n",
       " 'papjinya': 'papji',\n",
       " 'ketidaknyamanannya': 'ketidaknyamanan',\n",
       " 'openingnya': 'opening',\n",
       " 'shootingnya': 'shooting',\n",
       " 'tdmnya': 'tdm',\n",
       " 'nyantai': 'nyantai',\n",
       " 'mikirnya': 'mikir',\n",
       " 'playloadnya': 'playload',\n",
       " 'ngendoknya': 'ngendok',\n",
       " 'itemmapnya': 'itemmap',\n",
       " 'buglagnya': 'buglag',\n",
       " 'defaultnya': 'default',\n",
       " 'dancenya': 'dance',\n",
       " 'dibannednya': 'dibanned',\n",
       " 'jarijarinya': 'jarijari',\n",
       " 'bitangnya': 'bitang',\n",
       " 'timenya': 'time',\n",
       " 'citersnya': 'citers',\n",
       " 'giganya': 'giga',\n",
       " 'fashionnya': 'fashion',\n",
       " 'csnya': 'cs',\n",
       " 'feelingnya': 'feeling',\n",
       " 'nampaknya': 'nampak',\n",
       " 'runnya': 'run',\n",
       " 'tencennya': 'tencen',\n",
       " 'asesorisnya': 'asesoris',\n",
       " 'toolsnya': 'tools',\n",
       " 'squadnya': 'squad',\n",
       " 'baggingnya': 'bagging',\n",
       " 'apusnya': 'apus',\n",
       " 'systemnya': 'system',\n",
       " 'smartphonenya': 'smartphone',\n",
       " 'botbotnya': 'botbot',\n",
       " 'temantemannya': 'temanteman',\n",
       " 'slurnya': 'slur',\n",
       " 'dengernya': 'denger',\n",
       " 'komennya': 'komen',\n",
       " 'rejekinya': 'rejeki',\n",
       " 'autobannya': 'autoban',\n",
       " 'updateupdatenya': 'updateupdate',\n",
       " 'frisingnya': 'frising',\n",
       " 'chetnya': 'chet',\n",
       " 'pnya': 'p',\n",
       " 'airdropnya': 'airdrop',\n",
       " 'bugxnya': 'bugx',\n",
       " 'stuknya': 'stuk',\n",
       " 'uninstallnya': 'uninstall',\n",
       " 'firmwarenya': 'firmware',\n",
       " 'dinnernya': 'dinner',\n",
       " 'spectactornya': 'spectactor',\n",
       " 'graviknya': 'gravik',\n",
       " 'macthingnya': 'macthing',\n",
       " 'centernya': 'center',\n",
       " 'peledonnya': 'peledon',\n",
       " 'blastingnya': 'blasting',\n",
       " 'freznya': 'frez',\n",
       " 'ultinya': 'ulti',\n",
       " 'bgsdnya': 'bgsd',\n",
       " 'kmrennya': 'kmren',\n",
       " 'cachenya': 'cache',\n",
       " 'dragonballnya': 'dragonball',\n",
       " 'menandatanganinya': 'menandatangani',\n",
       " 'kanya': 'ka',\n",
       " 'tabnya': 'tab',\n",
       " 'scoopnya': 'scoop',\n",
       " 'tenccetnya': 'tenccet',\n",
       " 'avatarnya': 'avatar',\n",
       " 'aptudetnya': 'aptudet',\n",
       " 'aimbotnya': 'aimbot',\n",
       " 'mvpnya': 'mvp',\n",
       " 'softwarenya': 'software',\n",
       " 'smouchnya': 'smouch',\n",
       " 'killnya': 'kill',\n",
       " 'ajusnya': 'ajus',\n",
       " 'tvnya': 'tv',\n",
       " 'rupsnya': 'rups',\n",
       " 'unlimitednya': 'unlimited',\n",
       " 'vaultnya': 'vault',\n",
       " 'reelnya': 'reel',\n",
       " 'fortnitenya': 'fortnite',\n",
       " 'stacknya': 'stack',\n",
       " 'usernamenya': 'username',\n",
       " 'contornya': 'contor',\n",
       " 'slotnya': 'slot',\n",
       " 'hacknya': 'hack',\n",
       " 'enternya': 'enter',\n",
       " 'nyasih': 'nyasih',\n",
       " 'rtonya': 'rto',\n",
       " 'kdanya': 'kda',\n",
       " 'apnya': 'ap',\n",
       " 'casinonya': 'casino',\n",
       " 'innya': 'in',\n",
       " 'guestnya': 'guest',\n",
       " 'tppnya': 'tpp',\n",
       " 'pakenya': 'pake',\n",
       " 'kampreettnya': 'kampreett',\n",
       " 'slidernya': 'slider',\n",
       " 'memorynya': 'memory',\n",
       " 'nyampenya': 'nyampe',\n",
       " 'headshotnya': 'headshot',\n",
       " 'handsetnya': 'handset',\n",
       " 'katakatanya': 'katakata',\n",
       " 'jammingnya': 'jamming',\n",
       " 'valuenya': 'value',\n",
       " 'infinitynya': 'infinity',\n",
       " 'uidnya': 'uid',\n",
       " 'pazzelnya': 'pazzel',\n",
       " 'mikirinnya': 'mikirin',\n",
       " 'desiccnya': 'desicc',\n",
       " 'nembaknya': 'nembak',\n",
       " 'fremdropnya': 'fremdrop',\n",
       " 'kontrolernya': 'kontroler',\n",
       " 'samplenya': 'sample',\n",
       " 'viewernya': 'viewer',\n",
       " 'direcall': 'recall',\n",
       " 'diupdate': 'update',\n",
       " 'diinstal': 'instal',\n",
       " 'ditindaklanjuti': 'tindaklanjuti',\n",
       " 'diupgrade': 'upgrade',\n",
       " 'dinosaurus': 'nosaurus',\n",
       " 'diinstall': 'install',\n",
       " 'dibiarin': 'biarin',\n",
       " 'diciken': 'ciken',\n",
       " 'diam': 'am',\n",
       " 'dioptimasi': 'optimasi',\n",
       " 'diamond': 'amond',\n",
       " 'dibanned': 'banned',\n",
       " 'didik': 'dik',\n",
       " 'dipublish': 'publish',\n",
       " 'direport': 'report',\n",
       " 'dinner': 'nner',\n",
       " 'diskon': 'skon',\n",
       " 'dingin': 'ngin',\n",
       " 'divence': 'vence',\n",
       " 'dive': 've',\n",
       " 'divisi': 'visi',\n",
       " 'dimensi': 'mensi',\n",
       " 'direset': 'reset',\n",
       " 'diamdiam': 'amdiam',\n",
       " 'dilakuin': 'lakuin',\n",
       " 'diubahubah': 'ubahubah',\n",
       " 'dino': 'no',\n",
       " 'dipisahpisah': 'pisahpisah',\n",
       " 'dinding': 'nding',\n",
       " 'diva': 'va',\n",
       " 'dikustomisasi': 'kustomisasi',\n",
       " 'diberitahu': 'beritahu',\n",
       " 'diminimize': 'minimize',\n",
       " 'disalahgunakan': 'salahgunakan',\n",
       " 'dimensity': 'mensity',\n",
       " 'diupload': 'upload',\n",
       " 'dihack': 'hack',\n",
       " 'dipikirpikir': 'pikirpikir',\n",
       " 'direfresh': 'refresh',\n",
       " 'diuninstall': 'uninstall',\n",
       " 'direview': 'review',\n",
       " 'dihadang': 'hadang',\n",
       " 'diinjakinjak': 'injakinjak',\n",
       " 'dizoom': 'zoom',\n",
       " 'dinerf': 'nerf',\n",
       " 'diroll': 'roll',\n",
       " 'diner': 'ner',\n",
       " 'diulangulang': 'ulangulang',\n",
       " 'diloot': 'loot',\n",
       " 'dilema': 'lema',\n",
       " 'diload': 'load',\n",
       " 'diminimalisir': 'minimalisir',\n",
       " 'diboost': 'boost',\n",
       " 'dialog': 'alog',\n",
       " 'diperjualbelikan': 'perjualbelikan',\n",
       " 'direction': 'rection',\n",
       " 'dikit': 'kit',\n",
       " 'dipikirin': 'pikirin',\n",
       " 'diteleportasi': 'teleportasi',\n",
       " 'didih': 'dih',\n",
       " 'dibesarbesarkan': 'besarbesarkan',\n",
       " 'disangkasangka': 'sangkasangka',\n",
       " 'diberitahukan': 'beritahukan',\n",
       " 'difikirkan': 'fikirkan',\n",
       " 'diamod': 'amod',\n",
       " 'dirender': 'render',\n",
       " 'diucapin': 'ucapin',\n",
       " 'dicompress': 'compress',\n",
       " 'diskusi': 'skusi',\n",
       " 'disiasiakan': 'siasiakan',\n",
       " 'distribusi': 'stribusi',\n",
       " 'diblock': 'block',\n",
       " 'diframing': 'framing',\n",
       " 'display': 'splay',\n",
       " 'distack': 'stack',\n",
       " 'diskoneksi': 'skoneksi',\n",
       " 'dievozone': 'evozone',\n",
       " 'direstore': 'restore',\n",
       " 'ditengahtengah': 'tengahtengah',\n",
       " 'diimprove': 'improve',\n",
       " 'dick': 'ck',\n",
       " 'dibug': 'bug',\n",
       " 'diannugrh': 'annugrh',\n",
       " 'dianalisa': 'analisa',\n",
       " 'diframe': 'frame',\n",
       " 'direvive': 'revive',\n",
       " 'dikitdikit': 'kitdikit',\n",
       " 'dipindahpindah': 'pindahpindah',\n",
       " 'dibuatbuat': 'buatbuat',\n",
       " 'diutakatik': 'utakatik',\n",
       " 'dimiramar': 'miramar',\n",
       " 'diikutsertakan': 'ikutsertakan',\n",
       " 'direload': 'reload',\n",
       " 'dimidstein': 'midstein',\n",
       " 'digarisbawahi': 'garisbawahi',\n",
       " 'dipaksain': 'paksain',\n",
       " 'discroll': 'scroll',\n",
       " 'dikumpulin': 'kumpulin',\n",
       " 'diposting': 'posting',\n",
       " 'dimilta': 'milta',\n",
       " 'direstart': 'restart',\n",
       " 'diinvite': 'invite',\n",
       " 'diteleport': 'teleport',\n",
       " 'dipush': 'push',\n",
       " 'direnov': 'renov'}"
      ]
     },
     "execution_count": 43,
     "metadata": {},
     "output_type": "execute_result"
    }
   ],
   "source": [
    "new_slangwords_dict"
   ]
  },
  {
   "cell_type": "code",
   "execution_count": 45,
   "metadata": {},
   "outputs": [
    {
     "name": "stdout",
     "output_type": "stream",
     "text": [
      "Jumlah kata :  5280 kata\n"
     ]
    }
   ],
   "source": [
    "print(\"Jumlah kata : \", len(not_word_dict), \"kata\")"
   ]
  },
  {
   "cell_type": "code",
   "execution_count": 14,
   "metadata": {},
   "outputs": [],
   "source": [
    "with open('./not_word_dict.json', mode='w') as file:\n",
    "    json.dump(not_word_dict, file, indent=4)\n",
    "    \n",
    "unword_df = DataFrame(not_word_dict.items(), columns=[\"Word\", \"Count\"])\n",
    "unword_df\n",
    "unword_df.to_csv('./not_word_dict.csv', index=False)"
   ]
  },
  {
   "cell_type": "code",
   "execution_count": 3,
   "metadata": {},
   "outputs": [],
   "source": [
    "with open('./not_word_dict.json', mode='r') as file:\n",
    "    not_word_dict = json.load(file)"
   ]
  }
 ],
 "metadata": {
  "kernelspec": {
   "display_name": "tf2.13",
   "language": "python",
   "name": "python3"
  },
  "language_info": {
   "codemirror_mode": {
    "name": "ipython",
    "version": 3
   },
   "file_extension": ".py",
   "mimetype": "text/x-python",
   "name": "python",
   "nbconvert_exporter": "python",
   "pygments_lexer": "ipython3",
   "version": "3.10.12"
  }
 },
 "nbformat": 4,
 "nbformat_minor": 2
}
